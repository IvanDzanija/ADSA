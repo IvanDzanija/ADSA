{
 "cells": [
  {
   "cell_type": "code",
   "execution_count": 3,
   "id": "fb85042d-90db-40a0-8148-ea985c1f245f",
   "metadata": {},
   "outputs": [],
   "source": [
    "from Nodes import BinaryNode\n",
    "from BinaryTree import BinaryTree"
   ]
  },
  {
   "cell_type": "code",
   "execution_count": 27,
   "id": "063c91f6-d4ad-4e51-a221-21e9f4135f92",
   "metadata": {},
   "outputs": [],
   "source": [
    "def sample_tree() -> BinaryTree:\n",
    "    \"\"\"\n",
    "    Build the following binary search tree for testing:\n",
    "                5\n",
    "              /   \\\n",
    "             3     7\n",
    "            / \\\\   / \\\\\n",
    "           2  4  6   8\n",
    "    \"\"\"\n",
    "    tree = BinaryTree()\n",
    "    for value in [5, 3, 7, 2, 4, 6, 8]:\n",
    "        node = tree.insert(value)\n",
    "        assert node.get_value() == value\n",
    "    return tree"
   ]
  },
  {
   "cell_type": "code",
   "execution_count": 28,
   "id": "6f395ec9-0315-4eea-8616-7e5fa30b1cfb",
   "metadata": {},
   "outputs": [
    {
     "name": "stdout",
     "output_type": "stream",
     "text": [
      "        R── 8\n",
      "    R── 7\n",
      "        L── 6\n",
      "Root: 5\n",
      "        R── 4\n",
      "    L── 3\n",
      "        L── 2\n"
     ]
    }
   ],
   "source": [
    "tree = sample_tree()\n",
    "print(tree)"
   ]
  },
  {
   "cell_type": "code",
   "execution_count": 31,
   "id": "7c56caca-f1d0-4357-846d-34ab801516ac",
   "metadata": {},
   "outputs": [],
   "source": [
    "def verify_insertion_structure():\n",
    "    assert tree.root.get_value() == 5\n",
    "    assert tree.root.get_left_child().get_value() == 3\n",
    "    assert tree.root.get_right_child().get_value() == 7\n",
    "    assert tree.root.get_left_child().get_left_child().get_value() == 2\n",
    "    assert tree.root.get_left_child().get_right_child().get_value() == 4\n",
    "    assert tree.root.get_right_child().get_left_child().get_value() == 6\n",
    "    assert tree.root.get_right_child().get_right_child().get_value() == 8"
   ]
  },
  {
   "cell_type": "code",
   "execution_count": 32,
   "id": "181dec9d-d42c-4d77-a0b3-ef932919c308",
   "metadata": {},
   "outputs": [],
   "source": [
    "verify_insertion_structure()"
   ]
  },
  {
   "cell_type": "code",
   "execution_count": 33,
   "id": "71874145-cc0a-472e-a01d-f9f3bd31057b",
   "metadata": {},
   "outputs": [],
   "source": [
    "def test_insert_duplicate_value():\n",
    "    tree = BinaryTree()\n",
    "    tree.insert(5)\n",
    "    duplicate = tree.insert(5)\n",
    "    assert duplicate is None"
   ]
  },
  {
   "cell_type": "code",
   "execution_count": 34,
   "id": "ab7e5b7e-2bf2-484f-8ed9-5f78ce2405f2",
   "metadata": {},
   "outputs": [
    {
     "name": "stdout",
     "output_type": "stream",
     "text": [
      "Node with this value already exist in the tree.\n"
     ]
    }
   ],
   "source": [
    "test_insert_duplicate_value()"
   ]
  },
  {
   "cell_type": "code",
   "execution_count": 42,
   "id": "98f17486-7092-49b2-b459-31dc07c084e7",
   "metadata": {},
   "outputs": [],
   "source": [
    "def test_binary_search_found():\n",
    "    node1 = tree.binary_search(4)\n",
    "    node2 = tree.binary_search(6)\n",
    "    assert node1 is not None and node2 is not None\n",
    "    assert node1.get_value() == 4 and node2.get_value() == 6\n",
    "\n",
    "def test_binary_search_not_found():\n",
    "    node = tree.binary_search(100)\n",
    "    assert node is None"
   ]
  },
  {
   "cell_type": "code",
   "execution_count": 40,
   "id": "f3573300-1020-41fb-9a1e-df03285bf184",
   "metadata": {},
   "outputs": [],
   "source": [
    "test_binary_search_found() \n",
    "test_binary_search_not_found()"
   ]
  },
  {
   "cell_type": "code",
   "execution_count": 44,
   "id": "6ed5074f-5dca-4ec0-b1c5-1c9a9eddfaca",
   "metadata": {},
   "outputs": [],
   "source": [
    "def test_subtree_node_count():\n",
    "    assert tree.root.get_subtree_nodes_count() == 7\n",
    "    left = tree.root.get_left_child()\n",
    "    right = tree.root.get_right_child()\n",
    "    assert left.get_subtree_nodes_count() == 3\n",
    "    assert right.get_subtree_nodes_count() == 3"
   ]
  },
  {
   "cell_type": "code",
   "execution_count": 45,
   "id": "18d2e9fc-d6b1-4561-8f47-cc696c94ae8c",
   "metadata": {},
   "outputs": [],
   "source": [
    "test_subtree_node_count()"
   ]
  },
  {
   "cell_type": "code",
   "execution_count": 49,
   "id": "fc2da987-ded8-46f1-bd77-9626c0b33d78",
   "metadata": {},
   "outputs": [],
   "source": [
    "def test_node_height_computation():\n",
    "    assert tree.binary_search(2).get_height() == 0\n",
    "    assert tree.root.get_height() == 2\n",
    "\n",
    "\n",
    "def test_balancing_factor():\n",
    "    root = tree.root\n",
    "    assert root.balancing_factor() == 0\n",
    "    left = root.get_left_child()\n",
    "    assert left.balancing_factor() == 0"
   ]
  },
  {
   "cell_type": "code",
   "execution_count": 48,
   "id": "0d9c0390-e129-400d-ab9d-155a7632690a",
   "metadata": {},
   "outputs": [
    {
     "ename": "AssertionError",
     "evalue": "",
     "output_type": "error",
     "traceback": [
      "\u001b[31m---------------------------------------------------------------------------\u001b[39m",
      "\u001b[31mAssertionError\u001b[39m                            Traceback (most recent call last)",
      "\u001b[36mCell\u001b[39m\u001b[36m \u001b[39m\u001b[32mIn[48]\u001b[39m\u001b[32m, line 1\u001b[39m\n\u001b[32m----> \u001b[39m\u001b[32m1\u001b[39m \u001b[43mtest_node_height_computation\u001b[49m\u001b[43m(\u001b[49m\u001b[43m)\u001b[49m\n\u001b[32m      2\u001b[39m test_balancing_factor()\n",
      "\u001b[36mCell\u001b[39m\u001b[36m \u001b[39m\u001b[32mIn[47]\u001b[39m\u001b[32m, line 2\u001b[39m, in \u001b[36mtest_node_height_computation\u001b[39m\u001b[34m()\u001b[39m\n\u001b[32m      1\u001b[39m \u001b[38;5;28;01mdef\u001b[39;00m\u001b[38;5;250m \u001b[39m\u001b[34mtest_node_height_computation\u001b[39m():\n\u001b[32m----> \u001b[39m\u001b[32m2\u001b[39m     \u001b[38;5;28;01massert\u001b[39;00m tree.binary_search(\u001b[32m2\u001b[39m).get_height() == \u001b[32m0\u001b[39m\n\u001b[32m      3\u001b[39m     \u001b[38;5;28;01massert\u001b[39;00m tree.root.get_height() == \u001b[32m2\u001b[39m\n",
      "\u001b[31mAssertionError\u001b[39m: "
     ]
    }
   ],
   "source": [
    "test_node_height_computation()\n",
    "test_balancing_factor()"
   ]
  },
  {
   "cell_type": "code",
   "execution_count": null,
   "id": "37eb5b55-dd6e-400f-8075-75744f650cb5",
   "metadata": {},
   "outputs": [],
   "source": []
  }
 ],
 "metadata": {
  "kernelspec": {
   "display_name": "Python 3 (ipykernel)",
   "language": "python",
   "name": "python3"
  },
  "language_info": {
   "codemirror_mode": {
    "name": "ipython",
    "version": 3
   },
   "file_extension": ".py",
   "mimetype": "text/x-python",
   "name": "python",
   "nbconvert_exporter": "python",
   "pygments_lexer": "ipython3",
   "version": "3.12.8"
  }
 },
 "nbformat": 4,
 "nbformat_minor": 5
}
